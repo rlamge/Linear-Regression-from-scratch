{
 "cells": [
  {
   "cell_type": "code",
   "execution_count": 1,
   "id": "configured-pennsylvania",
   "metadata": {},
   "outputs": [],
   "source": [
    "import numpy as np\n",
    "import matplotlib.pyplot as plt"
   ]
  },
  {
   "cell_type": "markdown",
   "id": "frozen-photographer",
   "metadata": {},
   "source": [
    "### Initialize "
   ]
  },
  {
   "cell_type": "code",
   "execution_count": 54,
   "id": "selected-decimal",
   "metadata": {},
   "outputs": [],
   "source": [
    "def initialize():\n",
    "    global x\n",
    "    global y\n",
    "    global y1 \n",
    "    \n",
    "    x = np.array([1,2,3,4,5,6,7,8,9]) #independent variable\n",
    "    y = np.array([2,4,6,8,10,12,14,16,18]) #dependent variable\n",
    "    \n",
    "    n = len(x)\n",
    "    \n",
    "    #y1 = m*(x)+c  \n",
    "    \n",
    "    #L = np.mean((y1-y)**2)\n",
    "    \n",
    "    return x,y"
   ]
  },
  {
   "cell_type": "markdown",
   "id": "prescription-processor",
   "metadata": {},
   "source": [
    "### Train model"
   ]
  },
  {
   "cell_type": "code",
   "execution_count": 55,
   "id": "written-savannah",
   "metadata": {},
   "outputs": [],
   "source": [
    "def train(itr,x,y,m,c,lr):\n",
    "    \n",
    "    for i in range(itr):\n",
    "        \n",
    "        y1 = m*x + c #best fit line\n",
    "        \n",
    "        dm = np.mean(2*(y1-y)*x) #gradient of slope\n",
    "        dc = np.mean(2*(y1-y)) #gradient of intercept\n",
    "        \n",
    "        m = m - lr*dm #update slope\n",
    "        c = c - lr*dc #update intercept\n",
    "        \n",
    "    L = np.mean((y1-y)**2) # final loss function\n",
    "    print(\"Loss: \", L)\n",
    "    \n",
    "    plt.plot(x,y1)\n",
    "    plt.plot(x,y,\"ob\")\n",
    "    plt.legend(['final prediction','original data'])\n",
    "    \n",
    "    return m,c\n",
    "    "
   ]
  },
  {
   "cell_type": "markdown",
   "id": "genuine-relevance",
   "metadata": {},
   "source": [
    "### Prediction"
   ]
  },
  {
   "cell_type": "code",
   "execution_count": 56,
   "id": "legal-bible",
   "metadata": {},
   "outputs": [],
   "source": [
    "def pred(m,c,x1):\n",
    "    \n",
    "    y_pred = m*x1 + c\n",
    "    print(y_pred)\n",
    "    "
   ]
  },
  {
   "cell_type": "markdown",
   "id": "pediatric-youth",
   "metadata": {},
   "source": [
    "### Calling functions"
   ]
  },
  {
   "cell_type": "code",
   "execution_count": 57,
   "id": "cutting-venue",
   "metadata": {},
   "outputs": [],
   "source": [
    "x,y=initialize()"
   ]
  },
  {
   "cell_type": "code",
   "execution_count": 68,
   "id": "seasonal-apartment",
   "metadata": {},
   "outputs": [
    {
     "name": "stdout",
     "output_type": "stream",
     "text": [
      "Loss:  4.6674270225576534e-30\n"
     ]
    },
    {
     "data": {
      "image/png": "[encoded data removed]",
      "text/plain": [
       "<Figure size 432x288 with 1 Axes>"
      ]
     },
     "metadata": {
      "needs_background": "light"
     },
     "output_type": "display_data"
    }
   ],
   "source": [
    "m,c=train(itr=10000,x=x,y=y,m=1,c=1,lr=0.01)"
   ]
  },
  {
   "cell_type": "code",
   "execution_count": 69,
   "id": "indie-surrey",
   "metadata": {},
   "outputs": [
    {
     "data": {
      "text/plain": [
       "1.9999999999999993"
      ]
     },
     "execution_count": 69,
     "metadata": {},
     "output_type": "execute_result"
    }
   ],
   "source": [
    "m"
   ]
  },
  {
   "cell_type": "code",
   "execution_count": 70,
   "id": "instant-finger",
   "metadata": {},
   "outputs": [
    {
     "data": {
      "text/plain": [
       "3.5492794818025378e-15"
      ]
     },
     "execution_count": 70,
     "metadata": {},
     "output_type": "execute_result"
    }
   ],
   "source": [
    "c"
   ]
  },
  {
   "cell_type": "code",
   "execution_count": 71,
   "id": "trained-knight",
   "metadata": {},
   "outputs": [
    {
     "name": "stdout",
     "output_type": "stream",
     "text": [
      "99.99999999999997\n"
     ]
    }
   ],
   "source": [
    "pred(m,c,50)"
   ]
  },
  {
   "cell_type": "code",
   "execution_count": null,
   "id": "retired-advice",
   "metadata": {},
   "outputs": [],
   "source": []
  },
  {
   "cell_type": "code",
   "execution_count": null,
   "id": "psychological-framing",
   "metadata": {},
   "outputs": [],
   "source": []
  }
 ],
 "metadata": {
  "kernelspec": {
   "display_name": "Python 3",
   "language": "python",
   "name": "python3"
  },
  "language_info": {
   "codemirror_mode": {
    "name": "ipython",
    "version": 3
   },
   "file_extension": ".py",
   "mimetype": "text/x-python",
   "name": "python",
   "nbconvert_exporter": "python",
   "pygments_lexer": "ipython3",
   "version": "3.8.5"
  }
 },
 "nbformat": 4,
 "nbformat_minor": 5
}
